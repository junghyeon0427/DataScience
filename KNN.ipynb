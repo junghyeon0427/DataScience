{
  "nbformat": 4,
  "nbformat_minor": 0,
  "metadata": {
    "colab": {
      "name": "서정현_20181383_과제7.ipynb",
      "provenance": [],
      "collapsed_sections": []
    },
    "kernelspec": {
      "name": "python3",
      "display_name": "Python 3"
    },
    "language_info": {
      "name": "python"
    }
  },
  "cells": [
    {
      "cell_type": "code",
      "metadata": {
        "id": "0lXfCDnRhFnm"
      },
      "source": [
        "import numpy as np\n",
        "import pandas as pd\n",
        "import matplotlib.pyplot as plt"
      ],
      "execution_count": null,
      "outputs": []
    },
    {
      "cell_type": "code",
      "metadata": {
        "colab": {
          "base_uri": "https://localhost:8080/"
        },
        "id": "6--f59dukePX",
        "outputId": "aa13d59a-7128-44bf-85ee-6e62c078cdf8"
      },
      "source": [
        "f = open(\"iris.data\", \"r\")\n",
        "\n",
        "data = []\n",
        "\n",
        "for line in f:\n",
        "    try:\n",
        "        items = line.strip().split(\",\")\n",
        "        for i in range(4):\n",
        "            items[i] = float(items[i])\n",
        "        data.append((items[:4], items[4]))\n",
        "    except:\n",
        "        pass\n",
        "print(data)\n",
        "\n",
        "f.close()"
      ],
      "execution_count": null,
      "outputs": [
        {
          "output_type": "stream",
          "name": "stdout",
          "text": [
            "[([5.1, 3.5, 1.4, 0.2], 'Iris-setosa'), ([4.9, 3.0, 1.4, 0.2], 'Iris-setosa'), ([4.7, 3.2, 1.3, 0.2], 'Iris-setosa'), ([4.6, 3.1, 1.5, 0.2], 'Iris-setosa'), ([5.0, 3.6, 1.4, 0.2], 'Iris-setosa'), ([5.4, 3.9, 1.7, 0.4], 'Iris-setosa'), ([4.6, 3.4, 1.4, 0.3], 'Iris-setosa'), ([5.0, 3.4, 1.5, 0.2], 'Iris-setosa'), ([4.4, 2.9, 1.4, 0.2], 'Iris-setosa'), ([4.9, 3.1, 1.5, 0.1], 'Iris-setosa'), ([5.4, 3.7, 1.5, 0.2], 'Iris-setosa'), ([4.8, 3.4, 1.6, 0.2], 'Iris-setosa'), ([4.8, 3.0, 1.4, 0.1], 'Iris-setosa'), ([4.3, 3.0, 1.1, 0.1], 'Iris-setosa'), ([5.8, 4.0, 1.2, 0.2], 'Iris-setosa'), ([5.7, 4.4, 1.5, 0.4], 'Iris-setosa'), ([5.4, 3.9, 1.3, 0.4], 'Iris-setosa'), ([5.1, 3.5, 1.4, 0.3], 'Iris-setosa'), ([5.7, 3.8, 1.7, 0.3], 'Iris-setosa'), ([5.1, 3.8, 1.5, 0.3], 'Iris-setosa'), ([5.4, 3.4, 1.7, 0.2], 'Iris-setosa'), ([5.1, 3.7, 1.5, 0.4], 'Iris-setosa'), ([4.6, 3.6, 1.0, 0.2], 'Iris-setosa'), ([5.1, 3.3, 1.7, 0.5], 'Iris-setosa'), ([4.8, 3.4, 1.9, 0.2], 'Iris-setosa'), ([5.0, 3.0, 1.6, 0.2], 'Iris-setosa'), ([5.0, 3.4, 1.6, 0.4], 'Iris-setosa'), ([5.2, 3.5, 1.5, 0.2], 'Iris-setosa'), ([5.2, 3.4, 1.4, 0.2], 'Iris-setosa'), ([4.7, 3.2, 1.6, 0.2], 'Iris-setosa'), ([4.8, 3.1, 1.6, 0.2], 'Iris-setosa'), ([5.4, 3.4, 1.5, 0.4], 'Iris-setosa'), ([5.2, 4.1, 1.5, 0.1], 'Iris-setosa'), ([5.5, 4.2, 1.4, 0.2], 'Iris-setosa'), ([4.9, 3.1, 1.5, 0.1], 'Iris-setosa'), ([5.0, 3.2, 1.2, 0.2], 'Iris-setosa'), ([5.5, 3.5, 1.3, 0.2], 'Iris-setosa'), ([4.9, 3.1, 1.5, 0.1], 'Iris-setosa'), ([4.4, 3.0, 1.3, 0.2], 'Iris-setosa'), ([5.1, 3.4, 1.5, 0.2], 'Iris-setosa'), ([5.0, 3.5, 1.3, 0.3], 'Iris-setosa'), ([4.5, 2.3, 1.3, 0.3], 'Iris-setosa'), ([4.4, 3.2, 1.3, 0.2], 'Iris-setosa'), ([5.0, 3.5, 1.6, 0.6], 'Iris-setosa'), ([5.1, 3.8, 1.9, 0.4], 'Iris-setosa'), ([4.8, 3.0, 1.4, 0.3], 'Iris-setosa'), ([5.1, 3.8, 1.6, 0.2], 'Iris-setosa'), ([4.6, 3.2, 1.4, 0.2], 'Iris-setosa'), ([5.3, 3.7, 1.5, 0.2], 'Iris-setosa'), ([5.0, 3.3, 1.4, 0.2], 'Iris-setosa'), ([7.0, 3.2, 4.7, 1.4], 'Iris-versicolor'), ([6.4, 3.2, 4.5, 1.5], 'Iris-versicolor'), ([6.9, 3.1, 4.9, 1.5], 'Iris-versicolor'), ([5.5, 2.3, 4.0, 1.3], 'Iris-versicolor'), ([6.5, 2.8, 4.6, 1.5], 'Iris-versicolor'), ([5.7, 2.8, 4.5, 1.3], 'Iris-versicolor'), ([6.3, 3.3, 4.7, 1.6], 'Iris-versicolor'), ([4.9, 2.4, 3.3, 1.0], 'Iris-versicolor'), ([6.6, 2.9, 4.6, 1.3], 'Iris-versicolor'), ([5.2, 2.7, 3.9, 1.4], 'Iris-versicolor'), ([5.0, 2.0, 3.5, 1.0], 'Iris-versicolor'), ([5.9, 3.0, 4.2, 1.5], 'Iris-versicolor'), ([6.0, 2.2, 4.0, 1.0], 'Iris-versicolor'), ([6.1, 2.9, 4.7, 1.4], 'Iris-versicolor'), ([5.6, 2.9, 3.6, 1.3], 'Iris-versicolor'), ([6.7, 3.1, 4.4, 1.4], 'Iris-versicolor'), ([5.6, 3.0, 4.5, 1.5], 'Iris-versicolor'), ([5.8, 2.7, 4.1, 1.0], 'Iris-versicolor'), ([6.2, 2.2, 4.5, 1.5], 'Iris-versicolor'), ([5.6, 2.5, 3.9, 1.1], 'Iris-versicolor'), ([5.9, 3.2, 4.8, 1.8], 'Iris-versicolor'), ([6.1, 2.8, 4.0, 1.3], 'Iris-versicolor'), ([6.3, 2.5, 4.9, 1.5], 'Iris-versicolor'), ([6.1, 2.8, 4.7, 1.2], 'Iris-versicolor'), ([6.4, 2.9, 4.3, 1.3], 'Iris-versicolor'), ([6.6, 3.0, 4.4, 1.4], 'Iris-versicolor'), ([6.8, 2.8, 4.8, 1.4], 'Iris-versicolor'), ([6.7, 3.0, 5.0, 1.7], 'Iris-versicolor'), ([6.0, 2.9, 4.5, 1.5], 'Iris-versicolor'), ([5.7, 2.6, 3.5, 1.0], 'Iris-versicolor'), ([5.5, 2.4, 3.8, 1.1], 'Iris-versicolor'), ([5.5, 2.4, 3.7, 1.0], 'Iris-versicolor'), ([5.8, 2.7, 3.9, 1.2], 'Iris-versicolor'), ([6.0, 2.7, 5.1, 1.6], 'Iris-versicolor'), ([5.4, 3.0, 4.5, 1.5], 'Iris-versicolor'), ([6.0, 3.4, 4.5, 1.6], 'Iris-versicolor'), ([6.7, 3.1, 4.7, 1.5], 'Iris-versicolor'), ([6.3, 2.3, 4.4, 1.3], 'Iris-versicolor'), ([5.6, 3.0, 4.1, 1.3], 'Iris-versicolor'), ([5.5, 2.5, 4.0, 1.3], 'Iris-versicolor'), ([5.5, 2.6, 4.4, 1.2], 'Iris-versicolor'), ([6.1, 3.0, 4.6, 1.4], 'Iris-versicolor'), ([5.8, 2.6, 4.0, 1.2], 'Iris-versicolor'), ([5.0, 2.3, 3.3, 1.0], 'Iris-versicolor'), ([5.6, 2.7, 4.2, 1.3], 'Iris-versicolor'), ([5.7, 3.0, 4.2, 1.2], 'Iris-versicolor'), ([5.7, 2.9, 4.2, 1.3], 'Iris-versicolor'), ([6.2, 2.9, 4.3, 1.3], 'Iris-versicolor'), ([5.1, 2.5, 3.0, 1.1], 'Iris-versicolor'), ([5.7, 2.8, 4.1, 1.3], 'Iris-versicolor'), ([6.3, 3.3, 6.0, 2.5], 'Iris-virginica'), ([5.8, 2.7, 5.1, 1.9], 'Iris-virginica'), ([7.1, 3.0, 5.9, 2.1], 'Iris-virginica'), ([6.3, 2.9, 5.6, 1.8], 'Iris-virginica'), ([6.5, 3.0, 5.8, 2.2], 'Iris-virginica'), ([7.6, 3.0, 6.6, 2.1], 'Iris-virginica'), ([4.9, 2.5, 4.5, 1.7], 'Iris-virginica'), ([7.3, 2.9, 6.3, 1.8], 'Iris-virginica'), ([6.7, 2.5, 5.8, 1.8], 'Iris-virginica'), ([7.2, 3.6, 6.1, 2.5], 'Iris-virginica'), ([6.5, 3.2, 5.1, 2.0], 'Iris-virginica'), ([6.4, 2.7, 5.3, 1.9], 'Iris-virginica'), ([6.8, 3.0, 5.5, 2.1], 'Iris-virginica'), ([5.7, 2.5, 5.0, 2.0], 'Iris-virginica'), ([5.8, 2.8, 5.1, 2.4], 'Iris-virginica'), ([6.4, 3.2, 5.3, 2.3], 'Iris-virginica'), ([6.5, 3.0, 5.5, 1.8], 'Iris-virginica'), ([7.7, 3.8, 6.7, 2.2], 'Iris-virginica'), ([7.7, 2.6, 6.9, 2.3], 'Iris-virginica'), ([6.0, 2.2, 5.0, 1.5], 'Iris-virginica'), ([6.9, 3.2, 5.7, 2.3], 'Iris-virginica'), ([5.6, 2.8, 4.9, 2.0], 'Iris-virginica'), ([7.7, 2.8, 6.7, 2.0], 'Iris-virginica'), ([6.3, 2.7, 4.9, 1.8], 'Iris-virginica'), ([6.7, 3.3, 5.7, 2.1], 'Iris-virginica'), ([7.2, 3.2, 6.0, 1.8], 'Iris-virginica'), ([6.2, 2.8, 4.8, 1.8], 'Iris-virginica'), ([6.1, 3.0, 4.9, 1.8], 'Iris-virginica'), ([6.4, 2.8, 5.6, 2.1], 'Iris-virginica'), ([7.2, 3.0, 5.8, 1.6], 'Iris-virginica'), ([7.4, 2.8, 6.1, 1.9], 'Iris-virginica'), ([7.9, 3.8, 6.4, 2.0], 'Iris-virginica'), ([6.4, 2.8, 5.6, 2.2], 'Iris-virginica'), ([6.3, 2.8, 5.1, 1.5], 'Iris-virginica'), ([6.1, 2.6, 5.6, 1.4], 'Iris-virginica'), ([7.7, 3.0, 6.1, 2.3], 'Iris-virginica'), ([6.3, 3.4, 5.6, 2.4], 'Iris-virginica'), ([6.4, 3.1, 5.5, 1.8], 'Iris-virginica'), ([6.0, 3.0, 4.8, 1.8], 'Iris-virginica'), ([6.9, 3.1, 5.4, 2.1], 'Iris-virginica'), ([6.7, 3.1, 5.6, 2.4], 'Iris-virginica'), ([6.9, 3.1, 5.1, 2.3], 'Iris-virginica'), ([5.8, 2.7, 5.1, 1.9], 'Iris-virginica'), ([6.8, 3.2, 5.9, 2.3], 'Iris-virginica'), ([6.7, 3.3, 5.7, 2.5], 'Iris-virginica'), ([6.7, 3.0, 5.2, 2.3], 'Iris-virginica'), ([6.3, 2.5, 5.0, 1.9], 'Iris-virginica'), ([6.5, 3.0, 5.2, 2.0], 'Iris-virginica'), ([6.2, 3.4, 5.4, 2.3], 'Iris-virginica'), ([5.9, 3.0, 5.1, 1.8], 'Iris-virginica')]\n"
          ]
        }
      ]
    },
    {
      "cell_type": "code",
      "metadata": {
        "colab": {
          "base_uri": "https://localhost:8080/",
          "height": 268
        },
        "id": "6VJUPxsNl3xj",
        "outputId": "f59b39bb-ddf3-4d21-f316-bb048f3910d8"
      },
      "source": [
        "classes = {y for x, y in data}\n",
        "\n",
        "for c in classes:\n",
        "    X0 = []\n",
        "    X1 = []\n",
        "    for x, y in data:\n",
        "        if y == c:\n",
        "            X0.append(x[0])\n",
        "            X1.append(x[1])\n",
        "    plt.scatter(X0, X1, alpha=0.3)\n",
        "plt.show()"
      ],
      "execution_count": null,
      "outputs": [
        {
          "output_type": "display_data",
          "data": {
            "image/png": "[encoded data removed]",
            "text/plain": [
              "<Figure size 432x288 with 1 Axes>"
            ]
          },
          "metadata": {
            "needs_background": "light"
          }
        }
      ]
    },
    {
      "cell_type": "code",
      "metadata": {
        "colab": {
          "base_uri": "https://localhost:8080/"
        },
        "id": "tT47G1lRnEOC",
        "outputId": "51c8a114-c326-4ecf-f30e-f6a2a3d78777"
      },
      "source": [
        "import random\n",
        "\n",
        "random.shuffle(data)\n",
        "train = data[:-30]\n",
        "test = data[-30:]\n",
        "\n",
        "print(len(train), len(test))"
      ],
      "execution_count": null,
      "outputs": [
        {
          "output_type": "stream",
          "name": "stdout",
          "text": [
            "120 30\n"
          ]
        }
      ]
    },
    {
      "cell_type": "code",
      "metadata": {
        "id": "r8Vrq6J9oIl4"
      },
      "source": [
        "def distance(a, b):\n",
        "    sum = 0\n",
        "    for ai, bi in zip(a, b):\n",
        "        sum += (bi-ai) ** 2\n",
        "    return sum ** 0.5"
      ],
      "execution_count": null,
      "outputs": []
    },
    {
      "cell_type": "code",
      "metadata": {
        "id": "7ZC_N8Oeps3K"
      },
      "source": [
        "def knn(query, k, train):\n",
        "    train_with_dist = []\n",
        "    \n",
        "    for t in train:\n",
        "        d = distance(t[0], query)\n",
        "        train_with_dist.append((d, t[1]))\n",
        "    train_with_dist.sort()\n",
        "\n",
        "    candidates = train_with_dist[:k]\n",
        "\n",
        "    count_classes = {}\n",
        "\n",
        "    for d, c in candidates:\n",
        "        if c not in count_classes:\n",
        "            count_classes[c] = 0\n",
        "        count_classes[c] += 1/(1+d)\n",
        "    \n",
        "    return max(count_classes.items(), key=lambda x: x[1])[0]"
      ],
      "execution_count": null,
      "outputs": []
    },
    {
      "cell_type": "code",
      "metadata": {
        "colab": {
          "base_uri": "https://localhost:8080/",
          "height": 35
        },
        "id": "Sr7Wz5n3_tqO",
        "outputId": "5153cc9a-43b9-4f82-b83b-0f58d93fd0a0"
      },
      "source": [
        "knn([7.0, 3.2, 4.7, 1.4], 10, train)"
      ],
      "execution_count": null,
      "outputs": [
        {
          "output_type": "execute_result",
          "data": {
            "application/vnd.google.colaboratory.intrinsic+json": {
              "type": "string"
            },
            "text/plain": [
              "'Iris-versicolor'"
            ]
          },
          "metadata": {},
          "execution_count": 16
        }
      ]
    },
    {
      "cell_type": "code",
      "metadata": {
        "colab": {
          "base_uri": "https://localhost:8080/",
          "height": 282
        },
        "id": "y-6GPOq3pvoG",
        "outputId": "611ddcf1-cc05-49ba-c687-da8be51b6021"
      },
      "source": [
        "from tqdm import tqdm\n",
        "\n",
        "acc_avg = [0] * 30\n",
        "n_trials = 30\n",
        "\n",
        "for _ in tqdm(range(n_trials)):\n",
        "    random.shuffle(data)\n",
        "    train = data[:-30]\n",
        "    test = data[-30:]\n",
        "\n",
        "    for k in range(1, 30):\n",
        "        correct_cnt = 0\n",
        "        for t_v, t_c in test:\n",
        "            if knn(t_v, k, train) == t_c:\n",
        "                correct_cnt += 1\n",
        "    \n",
        "        total = len(test)\n",
        "        accuracy = correct_cnt / total\n",
        "        acc_avg[k] += accuracy\n",
        "\n",
        "acc_avg = [a / n_trials for a in acc_avg]\n",
        "\n",
        "plt.plot(range(1, 30), acc_avg[1:])\n",
        "plt.show()"
      ],
      "execution_count": null,
      "outputs": [
        {
          "output_type": "stream",
          "name": "stderr",
          "text": [
            "100%|██████████| 30/30 [00:06<00:00,  4.99it/s]\n"
          ]
        },
        {
          "output_type": "display_data",
          "data": {
            "image/png": "[encoded data removed]",
            "text/plain": [
              "<Figure size 432x288 with 1 Axes>"
            ]
          },
          "metadata": {
            "needs_background": "light"
          }
        }
      ]
    },
    {
      "cell_type": "code",
      "metadata": {
        "id": "qBJPsfZK_97F"
      },
      "source": [
        ""
      ],
      "execution_count": null,
      "outputs": []
    }
  ]
}