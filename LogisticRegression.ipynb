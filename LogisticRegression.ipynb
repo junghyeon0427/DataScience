{
  "nbformat": 4,
  "nbformat_minor": 0,
  "metadata": {
    "colab": {
      "name": "20181383_서정현_과제2.ipynb",
      "provenance": [],
      "collapsed_sections": []
    },
    "kernelspec": {
      "name": "python3",
      "display_name": "Python 3"
    },
    "language_info": {
      "name": "python"
    }
  },
  "cells": [
    {
      "cell_type": "code",
      "metadata": {
        "id": "wcirZE1VqszS"
      },
      "source": [
        "import torch\n",
        "x_train = torch.FloatTensor([[1],[2],[3],[4],[5],[2.5],[3.5],[0],[3.1],[2.7],[2.8],[2.9]])\n",
        "y_train = torch.FloatTensor([[1],[1],[1],[0],[0],[0],[0],[1],[0],[1],[1],[1]])"
      ],
      "execution_count": 20,
      "outputs": []
    },
    {
      "cell_type": "code",
      "metadata": {
        "colab": {
          "base_uri": "https://localhost:8080/"
        },
        "id": "1H70eCOssCLm",
        "outputId": "56af31dd-bdd2-4183-9031-481d33d1fa25"
      },
      "source": [
        "W = torch.zeros(1,1)\n",
        "b = torch.zeros(1,1)\n",
        "\n",
        "lr = 1.0\n",
        "\n",
        "for epoch in range(3001):\n",
        "    W.requires_grad_(True)\n",
        "    b.requires_grad_(True)\n",
        "\n",
        "    hypothesis = torch.sigmoid(torch.mm(x_train, W) + b)\n",
        "    cost = torch.mean(-y_train * torch.log(hypothesis) - (1 - y_train) * torch.log(1 - hypothesis))\n",
        "\n",
        "    cost.backward()\n",
        "    with torch.no_grad() as grd:\n",
        "        W = W - lr * W.grad\n",
        "        b = b - lr * b.grad\n",
        "\n",
        "    if epoch % 300 == 0:\n",
        "        print('epoch: {}, cost: {:.6f}, W {:.6f}, b: {:.6f}'.format(epoch, cost.item(), W.squeeze(), b.squeeze()))"
      ],
      "execution_count": 21,
      "outputs": [
        {
          "output_type": "stream",
          "name": "stdout",
          "text": [
            "epoch: 0, cost: 0.693147, W -0.154167, b: 0.083333\n",
            "epoch: 300, cost: 0.390820, W -2.174322, b: 6.609554\n",
            "epoch: 600, cost: 0.383699, W -2.620780, b: 7.953166\n",
            "epoch: 900, cost: 0.382149, W -2.832521, b: 8.587363\n",
            "epoch: 1200, cost: 0.381706, W -2.946402, b: 8.927781\n",
            "epoch: 1500, cost: 0.381565, W -3.010969, b: 9.120601\n",
            "epoch: 1800, cost: 0.381517, W -3.048561, b: 9.232802\n",
            "epoch: 2100, cost: 0.381500, W -3.070766, b: 9.299055\n",
            "epoch: 2400, cost: 0.381494, W -3.083992, b: 9.338511\n",
            "epoch: 2700, cost: 0.381492, W -3.091908, b: 9.362126\n",
            "epoch: 3000, cost: 0.381491, W -3.096662, b: 9.376306\n"
          ]
        }
      ]
    },
    {
      "cell_type": "code",
      "metadata": {
        "colab": {
          "base_uri": "https://localhost:8080/"
        },
        "id": "ZiViPKqeD-3I",
        "outputId": "133a71a5-64eb-4e56-b850-e4d165af5e02"
      },
      "source": [
        "x_test = torch.FloatTensor([[4.5],[1.1]])\n",
        "test_result = torch.sigmoid(torch.mm(x_test, W) + b)\n",
        "print(torch.round(test_result))"
      ],
      "execution_count": 22,
      "outputs": [
        {
          "output_type": "stream",
          "name": "stdout",
          "text": [
            "tensor([[0.],\n",
            "        [1.]])\n"
          ]
        }
      ]
    },
    {
      "cell_type": "code",
      "metadata": {
        "colab": {
          "base_uri": "https://localhost:8080/"
        },
        "id": "7zkGPRBVm5_-",
        "outputId": "4bd756ac-6207-464f-fc3b-5d00859cef2b"
      },
      "source": [
        "W = torch.zeros(1,1)\n",
        "b = torch.zeros(1,1)\n",
        "optimizer = torch.optim.SGD([W, b], lr=1.0)\n",
        "\n",
        "for epoch in range(3001):\n",
        "    W.requires_grad_(True)\n",
        "    b.requires_grad_(True)\n",
        "\n",
        "    hypothesis = torch.sigmoid(torch.mm(x_train, W) + b)\n",
        "    cost = torch.mean(-y_train * torch.log(hypothesis) - (1 - y_train) * torch.log(1 - hypothesis))\n",
        "\n",
        "    optimizer.zero_grad()\n",
        "    cost.backward()\n",
        "    optimizer.step()\n",
        "\n",
        "    if epoch % 300 == 0:\n",
        "        print('epoch: {}, cost: {:.6f}, W {:.6f}, b: {:.6f}'.format(epoch, cost.item(), W.squeeze(), b.squeeze()))\n"
      ],
      "execution_count": 23,
      "outputs": [
        {
          "output_type": "stream",
          "name": "stdout",
          "text": [
            "epoch: 0, cost: 0.693147, W -0.154167, b: 0.083333\n",
            "epoch: 300, cost: 0.390820, W -2.174322, b: 6.609554\n",
            "epoch: 600, cost: 0.383699, W -2.620780, b: 7.953166\n",
            "epoch: 900, cost: 0.382149, W -2.832521, b: 8.587363\n",
            "epoch: 1200, cost: 0.381706, W -2.946402, b: 8.927781\n",
            "epoch: 1500, cost: 0.381565, W -3.010969, b: 9.120601\n",
            "epoch: 1800, cost: 0.381517, W -3.048561, b: 9.232802\n",
            "epoch: 2100, cost: 0.381500, W -3.070766, b: 9.299055\n",
            "epoch: 2400, cost: 0.381494, W -3.083992, b: 9.338511\n",
            "epoch: 2700, cost: 0.381492, W -3.091908, b: 9.362126\n",
            "epoch: 3000, cost: 0.381491, W -3.096662, b: 9.376306\n"
          ]
        }
      ]
    },
    {
      "cell_type": "code",
      "metadata": {
        "colab": {
          "base_uri": "https://localhost:8080/",
          "height": 279
        },
        "id": "6OT29vIWFvhm",
        "outputId": "3dc9768e-0c03-43e6-bbc2-cc600137dadf"
      },
      "source": [
        "import matplotlib.pyplot as plt\n",
        "W.requires_grad_(False)\n",
        "b.requires_grad_(False)\n",
        "\n",
        "plt.scatter(x_train, y_train)\n",
        "\n",
        "X = torch.linspace(0,5,100).unsqueeze(1)\n",
        "Y = torch.sigmoid(torch.mm(X,W) + b)\n",
        "\n",
        "plt.ylabel(\"Probability of 1 (Y)\")\n",
        "plt.xlabel(\"Input (X)\")\n",
        "plt.scatter(x_train, y_train, c=\"black\", label=\"Training data\")\n",
        "plt.plot(X, Y, c=\"#ff0000\", label=\"Fitting line\")\n",
        "plt.legend()\n",
        "\n",
        "plt.show()"
      ],
      "execution_count": 24,
      "outputs": [
        {
          "output_type": "display_data",
          "data": {
            "image/png": "[encoded data removed]",
            "text/plain": [
              "<Figure size 432x288 with 1 Axes>"
            ]
          },
          "metadata": {
            "needs_background": "light"
          }
        }
      ]
    },
    {
      "cell_type": "code",
      "metadata": {
        "id": "PfZlxvihGail",
        "colab": {
          "base_uri": "https://localhost:8080/"
        },
        "outputId": "7535edc8-301f-400a-a7f6-27ae6ea1acf9"
      },
      "source": [
        "from sklearn.linear_model import LogisticRegression\n",
        "\n",
        "x_train = [[1],[2],[3],[4],[5],[2.5],[3.5],[0],[3.1],[2.7],[2.8],[2.9]]\n",
        "y_train = [1,1,1,0,0,0,0,1,0,1,1,1]\n",
        "\n",
        "model = LogisticRegression(penalty='none')\n",
        "model.fit(x_train, y_train)\n",
        "\n",
        "print(model.coef_, model.intercept_)\n",
        "\n",
        "x_test = [[4.5], [1.1]]\n",
        "test_result = model.predict(x_test)\n",
        "print(test_result)"
      ],
      "execution_count": 25,
      "outputs": [
        {
          "output_type": "stream",
          "name": "stdout",
          "text": [
            "[[-3.10385806]] [9.39776831]\n",
            "[0 1]\n"
          ]
        }
      ]
    }
  ]
}