{
  "nbformat": 4,
  "nbformat_minor": 0,
  "metadata": {
    "colab": {
      "name": "서정현_20181383_과제9.ipynb",
      "provenance": [],
      "collapsed_sections": []
    },
    "kernelspec": {
      "name": "python3",
      "display_name": "Python 3"
    },
    "language_info": {
      "name": "python"
    }
  },
  "cells": [
    {
      "cell_type": "code",
      "metadata": {
        "id": "PJefMdm3m3od"
      },
      "source": [
        "import requests\n",
        "import zipfile\n",
        "import re\n",
        "import random"
      ],
      "execution_count": 1,
      "outputs": []
    },
    {
      "cell_type": "code",
      "metadata": {
        "id": "hoXzgZBe18ye"
      },
      "source": [
        "r = requests.get(\"https://www.dt.fee.unicamp.br/~tiago/smsspamcollection/smsspamcollection.zip\")\n",
        "with open(\"sms.zip\", \"wb\") as f:\n",
        "    f.write(r.content)\n",
        "\n",
        "zipfile.ZipFile(\"sms.zip\").extractall() \n",
        "\n",
        "data = []\n",
        "with open(\"SMSSpamCollection.txt\", \"r\") as f:\n",
        "    for line in f:\n",
        "        data.append(line.strip().split('\\t'))\n",
        "\n",
        "for d in data:\n",
        "    d[1] = set(re.findall(\"[0-9a-z_]+\", d[1].lower()))"
      ],
      "execution_count": 2,
      "outputs": []
    },
    {
      "cell_type": "code",
      "metadata": {
        "id": "NqWwjjgAqvea"
      },
      "source": [
        "random.shuffle(data)\n",
        "\n",
        "train_size = int(len(data) * 0.8)\n",
        "test_zise = len(data) - train_size\n",
        "\n",
        "train = data[:train_size]\n",
        "test = data[train_size:]"
      ],
      "execution_count": 3,
      "outputs": []
    },
    {
      "cell_type": "code",
      "metadata": {
        "id": "eqCZxZlHvYLs",
        "colab": {
          "base_uri": "https://localhost:8080/"
        },
        "outputId": "b1ffe198-7942-4c33-f63c-c5747f0fb04d"
      },
      "source": [
        "n_total = len(train)\n",
        "n_spam = sum(1 for cls, bow in train if cls == \"spam\") \n",
        "n_ham = sum(1 for cls, bow in train if cls == \"ham\")\n",
        "\n",
        "alpha = 0.5\n",
        "\n",
        "prior_spam = (n_spam + alpha) / (n_total + 2*alpha)\n",
        "prior_ham = (n_ham + alpha) / (n_total + 2*alpha)\n",
        "\n",
        "print(prior_ham, prior_spam)"
      ],
      "execution_count": 4,
      "outputs": [
        {
          "output_type": "stream",
          "name": "stdout",
          "text": [
            "0.8702914798206278 0.1297085201793722\n"
          ]
        }
      ]
    },
    {
      "cell_type": "code",
      "metadata": {
        "id": "ylWaB0hUwowB"
      },
      "source": [
        "spam_words = {}\n",
        "ham_words = {}\n",
        "\n",
        "for cls, bow in train:\n",
        "    for word in bow:\n",
        "        if cls == \"spam\":\n",
        "            if word not in spam_words:\n",
        "                spam_words[word] = 0\n",
        "            spam_words[word] += 1\n",
        "        if cls == \"ham\":\n",
        "            if word not in ham_words:\n",
        "                ham_words[word] = 0\n",
        "            ham_words[word] += 1"
      ],
      "execution_count": 5,
      "outputs": []
    },
    {
      "cell_type": "code",
      "metadata": {
        "id": "cZ7SOOo-zlWr"
      },
      "source": [
        "from collections import Counter\n",
        "import math\n",
        "\n",
        "spam_words = Counter(word for cls, bow in train \n",
        "                    for word in bow \n",
        "                    if cls==\"spam\")\n",
        "ham_words = Counter(word for cls, bow in train \n",
        "                    for word in bow \n",
        "                    if cls==\"ham\")"
      ],
      "execution_count": 6,
      "outputs": []
    },
    {
      "cell_type": "code",
      "metadata": {
        "id": "h6ntSIOkz4Yd"
      },
      "source": [
        "def predict(bow, spam_words, ham_words, n_spams, n_hams, prior_spam, prior_ham, alpha):\n",
        "    spam_score = math.log(prior_spam)\n",
        "    for word in bow:\n",
        "        spam_score += math.log((spam_words[word] + alpha) / (n_spams + alpha))\n",
        "    \n",
        "    ham_score = math.log(prior_ham)\n",
        "    for word in bow:\n",
        "        ham_score += math.log((ham_words[word] + alpha) / (n_hams + alpha))\n",
        "    \n",
        "    if spam_score < ham_score:\n",
        "        return 'ham'\n",
        "    else:\n",
        "        return 'spam'"
      ],
      "execution_count": 7,
      "outputs": []
    },
    {
      "cell_type": "code",
      "metadata": {
        "id": "XEBInwP22H_O"
      },
      "source": [
        "tp, tn, fp, fn = 0, 0, 0, 0\n",
        "for ans, bow in test:\n",
        "    pred = predict(bow, spam_words, ham_words, n_spam, n_ham, prior_spam, prior_ham, alpha)\n",
        "\n",
        "    if pred == 'spam':\n",
        "        if ans == 'spam':\n",
        "            tp += 1\n",
        "        else:\n",
        "            fp += 1\n",
        "    else:\n",
        "        if ans =='ham':\n",
        "            tn += 1\n",
        "        else:\n",
        "            fn += 1"
      ],
      "execution_count": 8,
      "outputs": []
    },
    {
      "cell_type": "code",
      "metadata": {
        "colab": {
          "base_uri": "https://localhost:8080/"
        },
        "id": "Qw-0AwVK2TRv",
        "outputId": "a7c02e8c-4cd4-4dda-d709-83f7781f8188"
      },
      "source": [
        "print(tp, tn, fp, fn)"
      ],
      "execution_count": 10,
      "outputs": [
        {
          "output_type": "stream",
          "name": "stdout",
          "text": [
            "165 797 149 4\n"
          ]
        }
      ]
    },
    {
      "cell_type": "code",
      "metadata": {
        "colab": {
          "base_uri": "https://localhost:8080/"
        },
        "id": "NLuNcAbR5noA",
        "outputId": "47644946-257c-4815-fd44-21dd0b842021"
      },
      "source": [
        "accuracy = (tp + tn) / (tp + tn + fp + fn)\n",
        "precision = (tp) / (tp + fp)\n",
        "recall = (tp) / (tp + fn)\n",
        "f1 = 2 * precision * recall /(precision + recall)\n",
        "\n",
        "print(\"accuracy: \", accuracy) \n",
        "print(\"precision: \", precision) \n",
        "print(\"recall: \", recall) \n",
        "print(\"f1: \", f1)"
      ],
      "execution_count": 9,
      "outputs": [
        {
          "output_type": "stream",
          "name": "stdout",
          "text": [
            "accuracy:  0.862780269058296\n",
            "precision:  0.5254777070063694\n",
            "recall:  0.9763313609467456\n",
            "f1:  0.6832298136645963\n"
          ]
        }
      ]
    },
    {
      "cell_type": "code",
      "metadata": {
        "id": "SrZIXzx7koJj"
      },
      "source": [
        ""
      ],
      "execution_count": null,
      "outputs": []
    }
  ]
}