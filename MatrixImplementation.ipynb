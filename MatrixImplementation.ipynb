{
 "cells": [
  {
   "cell_type": "code",
   "execution_count": 1,
   "id": "57c042e4",
   "metadata": {},
   "outputs": [],
   "source": [
    "class Matrix:\n",
    "    def __init__(self, data):\n",
    "        self.data = data\n",
    "        self.row = len(self.data)\n",
    "        self.col = len(self.data[0])\n",
    "        self.array = [[0] * self.col for i in range(self.row)]\n",
    "        \n",
    "    def __repr__(self):\n",
    "        return f\"Matrix({self.data})\"\n",
    "    \n",
    "    def __add__(self, other):\n",
    "        assert (self.row == other.row) and (self.col == other.col), \"Assertion Error !!\"\n",
    "    \n",
    "        for i in range(self.row):\n",
    "            for j in range(self.col):\n",
    "                self.array[i][j]=self.data[i][j] + other.data[i][j]  \n",
    "        return Matrix(self.array)\n",
    "    \n",
    "    def __sub__(self, other):\n",
    "        assert (self.row == other.row) and (self.col == other.col), \"Assertion Error !!\"\n",
    "        \n",
    "        for i in range(self.row):\n",
    "            for j in range(self.col):\n",
    "                self.array[i][j]=self.data[i][j] - other.data[i][j]  \n",
    "        return Matrix(self.array)  \n",
    "    \n",
    "    def __mul__(self, other):\n",
    "        if type(other) == Matrix:\n",
    "            assert self.col == other.row, \"Assertion Error!!\"\n",
    "        \n",
    "            matmul_array = [[0] * self.row for i in range(other.col)]\n",
    "        \n",
    "            for i in range(len(matmul_array)):\n",
    "                for j in range(len(matmul_array[0])):\n",
    "                    for k in range(self.col):\n",
    "                        matmul_array[i][j] += self.data[j][k] * other.data[k][i]\n",
    "            return Matrix(matmul_array)\n",
    "        else:\n",
    "            for i in range(self.row):\n",
    "                for j in range(self.col):\n",
    "                    self.array[i][j] = other * self.data[i][j]\n",
    "            return Matrix(self.array)\n",
    "    \n",
    "    def __rmul__(self, other):\n",
    "        for i in range(self.row):\n",
    "            for j in range(self.col):\n",
    "                self.array[i][j] = other * self.data[i][j]        \n",
    "        return Matrix(self.array)"
   ]
  },
  {
   "cell_type": "code",
   "execution_count": 5,
   "id": "eddf71a1",
   "metadata": {},
   "outputs": [],
   "source": [
    "a = Matrix([[1, 2, 3, 4], [5, 6, 7, 8]])\n",
    "b = Matrix([[1, 2], [3, 4], [5, 6], [7, 8]])\n",
    "c = Matrix([[4, 3, 2, 1], [8, 7, 6, 5]])"
   ]
  },
  {
   "cell_type": "code",
   "execution_count": 6,
   "id": "3c9bba29",
   "metadata": {},
   "outputs": [
    {
     "data": {
      "text/plain": [
       "Matrix([[50, 114], [60, 140]])"
      ]
     },
     "execution_count": 6,
     "metadata": {},
     "output_type": "execute_result"
    }
   ],
   "source": [
    "print(a * b)\n",
    "print(a - c)"
   ]
  }
 ],
 "metadata": {
  "kernelspec": {
   "display_name": "Python 3",
   "language": "python",
   "name": "python3"
  },
  "language_info": {
   "codemirror_mode": {
    "name": "ipython",
    "version": 3
   },
   "file_extension": ".py",
   "mimetype": "text/x-python",
   "name": "python",
   "nbconvert_exporter": "python",
   "pygments_lexer": "ipython3",
   "version": "3.8.5"
  }
 },
 "nbformat": 4,
 "nbformat_minor": 5
}
