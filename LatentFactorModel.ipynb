{
  "nbformat": 4,
  "nbformat_minor": 0,
  "metadata": {
    "colab": {
      "name": "서정현_20181383_과제5.ipynb",
      "provenance": [],
      "collapsed_sections": []
    },
    "kernelspec": {
      "display_name": "Python 3",
      "name": "python3"
    },
    "language_info": {
      "name": "python"
    }
  },
  "cells": [
    {
      "cell_type": "code",
      "metadata": {
        "colab": {
          "base_uri": "https://localhost:8080/"
        },
        "id": "UIXek-41bGFb",
        "outputId": "aa9a412c-e53f-402d-811d-830080566d80"
      },
      "source": [
        "from google.colab import drive\n",
        "drive.mount('/content/gdrive')"
      ],
      "execution_count": 1,
      "outputs": [
        {
          "output_type": "stream",
          "name": "stdout",
          "text": [
            "Mounted at /content/gdrive\n"
          ]
        }
      ]
    },
    {
      "cell_type": "code",
      "metadata": {
        "colab": {
          "base_uri": "https://localhost:8080/"
        },
        "id": "IT-IismycQ9B",
        "outputId": "929dad1c-cac6-419a-9119-12b97653399e"
      },
      "source": [
        "!ls /content/gdrive/MyDrive/movielens/"
      ],
      "execution_count": 2,
      "outputs": [
        {
          "output_type": "stream",
          "name": "stdout",
          "text": [
            "allbut.pl  u1.base  u2.test  u4.base  u5.test  ub.base\tu.genre  u.occupation\n",
            "mku.sh\t   u1.test  u3.base  u4.test  ua.base  ub.test\tu.info\t u.user\n",
            "README\t   u2.base  u3.test  u5.base  ua.test  u.data\tu.item\n"
          ]
        }
      ]
    },
    {
      "cell_type": "code",
      "metadata": {
        "id": "S2i5Ju0SbjPm"
      },
      "source": [
        "import torch\n",
        "import torch.nn.functional as F\n",
        "import matplotlib.pyplot as plt\n",
        "import pandas as pd"
      ],
      "execution_count": 4,
      "outputs": []
    },
    {
      "cell_type": "code",
      "metadata": {
        "id": "CnjEXYmqccmI"
      },
      "source": [
        "train = pd.read_csv(\"/content/gdrive/MyDrive/movielens/ua.base\", sep=\"\\t\", names=[\"user\", \"movie\", \"rating\", \"timestamp\"])\n",
        "test = pd.read_csv(\"/content/gdrive/MyDrive/movielens/ua.test\", sep=\"\\t\", names=[\"user\", \"movie\", \"rating\", \"timestamp\"])"
      ],
      "execution_count": 15,
      "outputs": []
    },
    {
      "cell_type": "code",
      "metadata": {
        "id": "r6z-YAx9d6Cx"
      },
      "source": [
        "users = torch.LongTensor(train['user'])\n",
        "items = torch.LongTensor(train['movie'])\n",
        "ratings = torch.FloatTensor(train['rating'])\n",
        "\n",
        "users_test = torch.LongTensor(test['user'])\n",
        "items_test = torch.LongTensor(test['movie'])\n",
        "ratings_test = torch.FloatTensor(test['rating'])"
      ],
      "execution_count": 16,
      "outputs": []
    },
    {
      "cell_type": "code",
      "metadata": {
        "colab": {
          "base_uri": "https://localhost:8080/"
        },
        "id": "7kaO_FO5ai8P",
        "outputId": "ac094275-0891-49f5-87c0-56e784619936"
      },
      "source": [
        "rank = 10\n",
        "numItems = items.max() + 1\n",
        "numUsers = users.max() + 1\n",
        "P = torch.randn(numItems, rank, requires_grad=True)\n",
        "Q = torch.randn(numUsers, rank, requires_grad=True)\n",
        "\n",
        "optimizer = torch.optim.Adam([P, Q], lr=0.1)\n",
        "\n",
        "X = []\n",
        "Y = []\n",
        "Y_test = []\n",
        "\n",
        "for epoch in range(1000):\n",
        "\n",
        "    hypo = (P[items] * Q[users]).sum(dim=1)\n",
        "    cost = F.mse_loss(hypo, ratings)\n",
        " \n",
        "    optimizer.zero_grad()\n",
        "    cost.backward()\n",
        "    optimizer.step()\n",
        "\n",
        "\n",
        "\n",
        "    with torch.no_grad():\n",
        "        \n",
        "        hypo_test = (P[items_test] * Q[users_test]).sum(dim=1)\n",
        "        cost_test = F.mse_loss(hypo_test, ratings_test)\n",
        "\n",
        "        X.append(epoch)\n",
        "        Y.append(cost)\n",
        "        Y_test.append(cost_test)\n",
        "\n",
        "        if epoch % 100 == 0:\n",
        "            print(f\"epoch: {epoch}, mse: {cost:.6f}, mse_test: {cost_test:.6f}\")"
      ],
      "execution_count": 18,
      "outputs": [
        {
          "output_type": "stream",
          "name": "stdout",
          "text": [
            "epoch: 0, mse: 24.426987, mse_test: 22.774019\n",
            "epoch: 100, mse: 0.575385, mse_test: 1.547055\n",
            "epoch: 200, mse: 0.498561, mse_test: 1.858127\n",
            "epoch: 300, mse: 0.473936, mse_test: 2.247037\n",
            "epoch: 400, mse: 0.462293, mse_test: 2.717107\n",
            "epoch: 500, mse: 0.455950, mse_test: 3.295479\n",
            "epoch: 600, mse: 0.452129, mse_test: 3.902999\n",
            "epoch: 700, mse: 0.449612, mse_test: 4.561719\n",
            "epoch: 800, mse: 0.447758, mse_test: 5.264279\n",
            "epoch: 900, mse: 0.446382, mse_test: 6.007288\n"
          ]
        }
      ]
    },
    {
      "cell_type": "code",
      "metadata": {
        "colab": {
          "base_uri": "https://localhost:8080/",
          "height": 265
        },
        "id": "4u6CyDnMapwd",
        "outputId": "966704d9-1131-4f1b-e402-d1ae02c48c08"
      },
      "source": [
        "plt.plot(X, Y, label=\"Train MSE\")\n",
        "plt.plot(X, Y_test, label=\"Test MSE\")\n",
        "plt.legend()\n",
        "plt.show()"
      ],
      "execution_count": 19,
      "outputs": [
        {
          "output_type": "display_data",
          "data": {
            "image/png": "[encoded data removed]",
            "text/plain": [
              "<Figure size 432x288 with 1 Axes>"
            ]
          },
          "metadata": {
            "needs_background": "light"
          }
        }
      ]
    },
    {
      "cell_type": "code",
      "metadata": {
        "colab": {
          "base_uri": "https://localhost:8080/"
        },
        "id": "fEGEiEcGeqJq",
        "outputId": "958f543a-e827-4523-9c75-efe68bb2eff7"
      },
      "source": [
        "rank = 10\n",
        "numItems = items.max() + 1\n",
        "numUsers = users.max() + 1\n",
        "P = torch.randn(numItems, rank, requires_grad=True)\n",
        "Q = torch.randn(numUsers, rank, requires_grad=True)\n",
        "\n",
        "optimizer = torch.optim.Adam([P, Q], lr=0.1)\n",
        "\n",
        "X = []\n",
        "Y = []\n",
        "Y_test = []\n",
        "lambda_P = 0.0001\n",
        "lambda_Q = 0.0001\n",
        "\n",
        "for epoch in range(1000):\n",
        "\n",
        "    hypo = (P[items] * Q[users]).sum(dim=1)\n",
        "    mse = F.mse_loss(hypo, ratings)\n",
        "    cost = mse + lambda_P * (P ** 2).sum() + lambda_Q * (Q ** 2).sum()\n",
        " \n",
        "    optimizer.zero_grad()\n",
        "    cost.backward()\n",
        "    optimizer.step()\n",
        "\n",
        "\n",
        "\n",
        "    with torch.no_grad():\n",
        "        \n",
        "        hypo_test = (P[items_test] * Q[users_test]).sum(dim=1)\n",
        "        mse_test = F.mse_loss(hypo_test, ratings_test)\n",
        "\n",
        "        X.append(epoch)\n",
        "        Y.append(mse.item())\n",
        "        Y_test.append(mse_test.item())\n",
        "\n",
        "        if epoch % 100 == 0:\n",
        "            print(f\"epoch: {epoch}, mse: {mse:.6f}, mse_test: {mse_test:.6f}\")\n"
      ],
      "execution_count": 20,
      "outputs": [
        {
          "output_type": "stream",
          "name": "stdout",
          "text": [
            "epoch: 0, mse: 24.008469, mse_test: 21.944254\n",
            "epoch: 100, mse: 0.692299, mse_test: 1.052575\n",
            "epoch: 200, mse: 0.643764, mse_test: 1.055156\n",
            "epoch: 300, mse: 0.632871, mse_test: 1.057724\n",
            "epoch: 400, mse: 0.629666, mse_test: 1.055894\n",
            "epoch: 500, mse: 0.628333, mse_test: 1.054810\n",
            "epoch: 600, mse: 0.627663, mse_test: 1.054230\n",
            "epoch: 700, mse: 0.627198, mse_test: 1.053980\n",
            "epoch: 800, mse: 0.626809, mse_test: 1.053956\n",
            "epoch: 900, mse: 0.626498, mse_test: 1.053920\n"
          ]
        }
      ]
    },
    {
      "cell_type": "code",
      "metadata": {
        "colab": {
          "base_uri": "https://localhost:8080/",
          "height": 268
        },
        "id": "rHXQJQcOijC-",
        "outputId": "c0490d5d-f8b1-46b0-f42f-bd235bbc4cbf"
      },
      "source": [
        "plt.plot(X, Y, label=\"Train MSE\")\n",
        "plt.plot(X, Y_test, label=\"Test MSE\")\n",
        "plt.annotate(\"Add Regularization\",(300,10))\n",
        "plt.legend()\n",
        "plt.show()"
      ],
      "execution_count": 21,
      "outputs": [
        {
          "output_type": "display_data",
          "data": {
            "image/png": "[encoded data removed]",
            "text/plain": [
              "<Figure size 432x288 with 1 Axes>"
            ]
          },
          "metadata": {
            "needs_background": "light"
          }
        }
      ]
    },
    {
      "cell_type": "code",
      "metadata": {
        "colab": {
          "base_uri": "https://localhost:8080/"
        },
        "id": "dVIsEUU3lcMO",
        "outputId": "c2faf333-d0ec-48aa-c2a2-498c6c829b26"
      },
      "source": [
        "rank = 10\n",
        "numItems = items.max() + 1\n",
        "numUsers = users.max() + 1\n",
        "P = torch.randn(numItems, rank, requires_grad=True)\n",
        "Q = torch.randn(numUsers, rank, requires_grad=True)\n",
        "\n",
        "bias_item = torch.randn(numItems, requires_grad=True)\n",
        "bias_user = torch.randn(numUsers, requires_grad=True)\n",
        "mean = (ratings.sum() / len(ratings)).item() \n",
        "\n",
        "optimizer = torch.optim.Adam([P, Q, bias_item, bias_user], lr=0.1)\n",
        "\n",
        "X = []\n",
        "Y = []\n",
        "Y_test = []\n",
        "lambda_P = 0.0001\n",
        "lambda_Q = 0.0001\n",
        "lambda_BI = 0.0001\n",
        "lambda_BU = 0.0001\n",
        "\n",
        "for epoch in range(1000):\n",
        "\n",
        "    hypo = (P[items] * Q[users]).sum(dim=1) + mean + bias_item[items] + bias_user[users]\n",
        "    mse = F.mse_loss(hypo, ratings)\n",
        "    cost = mse + lambda_P * (P ** 2).sum() + lambda_Q * (Q ** 2).sum() + \\\n",
        "            lambda_BI * (bias_item **2).sum() + lambda_BU * (bias_user **2).sum()\n",
        " \n",
        "    optimizer.zero_grad()\n",
        "    cost.backward()\n",
        "    optimizer.step()\n",
        "\n",
        "    with torch.no_grad():\n",
        "        \n",
        "        hypo_test = (P[items_test] * Q[users_test]).sum(dim=1) + \\\n",
        "                    mean + bias_item[items_test] + bias_user[users_test]\n",
        "        mse_test = F.mse_loss(hypo_test, ratings_test)\n",
        "\n",
        "        X.append(epoch)\n",
        "        Y.append(mse.item())\n",
        "        Y_test.append(mse_test.item())\n",
        "\n",
        "        if epoch % 100 == 0:\n",
        "            print(f\"epoch: {epoch}, mse: {mse}, mse_test: {mse_test}\")"
      ],
      "execution_count": 22,
      "outputs": [
        {
          "output_type": "stream",
          "name": "stdout",
          "text": [
            "epoch: 0, mse: 13.767125129699707, mse_test: 10.838435173034668\n",
            "epoch: 100, mse: 0.6058236956596375, mse_test: 0.8789447546005249\n",
            "epoch: 200, mse: 0.5797752141952515, mse_test: 0.8700986504554749\n",
            "epoch: 300, mse: 0.5761741399765015, mse_test: 0.8688960075378418\n",
            "epoch: 400, mse: 0.5748860239982605, mse_test: 0.8675019145011902\n",
            "epoch: 500, mse: 0.5742839574813843, mse_test: 0.8668931722640991\n",
            "epoch: 600, mse: 0.5739847421646118, mse_test: 0.866948664188385\n",
            "epoch: 700, mse: 0.573822021484375, mse_test: 0.8671154379844666\n",
            "epoch: 800, mse: 0.5737295150756836, mse_test: 0.8670694231987\n",
            "epoch: 900, mse: 0.5736625790596008, mse_test: 0.8666079044342041\n"
          ]
        }
      ]
    },
    {
      "cell_type": "code",
      "metadata": {
        "colab": {
          "base_uri": "https://localhost:8080/",
          "height": 265
        },
        "id": "igf1038PnmQO",
        "outputId": "a2e48267-98e4-4ed0-8f81-b414808f417c"
      },
      "source": [
        "plt.plot(X, Y, label=\"Train MSE\")\n",
        "plt.plot(X, Y_test, label=\"Test MSE\")\n",
        "plt.annotate(\"Add Bias\",(300,5))\n",
        "plt.legend()\n",
        "plt.show()"
      ],
      "execution_count": 24,
      "outputs": [
        {
          "output_type": "display_data",
          "data": {
            "image/png": "[encoded data removed]",
            "text/plain": [
              "<Figure size 432x288 with 1 Axes>"
            ]
          },
          "metadata": {
            "needs_background": "light"
          }
        }
      ]
    }
  ]
}